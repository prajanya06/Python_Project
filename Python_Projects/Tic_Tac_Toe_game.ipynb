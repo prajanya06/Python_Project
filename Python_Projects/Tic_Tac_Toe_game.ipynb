{
  "nbformat": 4,
  "nbformat_minor": 0,
  "metadata": {
    "colab": {
      "name": "Tic_Tac_Toe_game.ipynb",
      "provenance": [],
      "collapsed_sections": []
    },
    "kernelspec": {
      "name": "python3",
      "display_name": "Python 3"
    },
    "language_info": {
      "name": "python"
    }
  },
  "cells": [
    {
      "cell_type": "code",
      "execution_count": 1,
      "metadata": {
        "id": "e5BPQZwPszDL"
      },
      "outputs": [],
      "source": [
        "from IPython.display import clear_output"
      ]
    },
    {
      "cell_type": "code",
      "source": [
        "def display(board):\n",
        "  print(board[0]+'|'+board[1]+'|'+board[2])\n",
        "  print(board[3]+'|'+board[4]+'|'+board[5])\n",
        "  print(board[6]+'|'+board[7]+'|'+board[8])"
      ],
      "metadata": {
        "id": "b3hDwRpMmqRN"
      },
      "execution_count": 2,
      "outputs": []
    },
    {
      "cell_type": "code",
      "source": [
        "def player_input():\n",
        "  flag=True\n",
        "  while(flag):\n",
        "    ch = input('Player 1 plz enter your prefered marker (X/O)')\n",
        "    if ch == 'X' or ch == 'O':\n",
        "      return ch\n",
        "      flag=False\n",
        "    else:\n",
        "      clear_output()\n",
        "      print('Sorry! wrong marker')\n",
        "      flag = True"
      ],
      "metadata": {
        "id": "uHdY48l-nfVH"
      },
      "execution_count": 3,
      "outputs": []
    },
    {
      "cell_type": "code",
      "source": [
        "def player_pos_input():\n",
        "  a=True\n",
        "  while(a):\n",
        "    pos=int(input('Enter the position of your marker (1-9)'))\n",
        "    if pos in range(1,10):\n",
        "      a=False\n",
        "    else:\n",
        "      clear_output()\n",
        "      print('Sorr! wrong position')\n",
        "  return pos"
      ],
      "metadata": {
        "id": "aW8O9ucHpOlP"
      },
      "execution_count": 4,
      "outputs": []
    },
    {
      "cell_type": "code",
      "source": [
        "def place_marker(board, marker, position):\n",
        "  if board[position-1] == 'X' or board[position-1] == 'O':\n",
        "    print('Space is already occupied')\n",
        "    return -1\n",
        "  else:\n",
        "    board[position-1]=marker"
      ],
      "metadata": {
        "id": "8kFNUwtsuuu6"
      },
      "execution_count": 5,
      "outputs": []
    },
    {
      "cell_type": "code",
      "source": [
        "def win_check(board, marker):\n",
        "  if board[0]==marker and board[1]==marker and board[2]==marker:\n",
        "    return True\n",
        "  elif board[3]==marker and board[4]==marker and board[5]==marker:\n",
        "    return True\n",
        "  elif board[6]==marker and board[7]==marker and board[8]==marker:\n",
        "    return True\n",
        "  elif board[0]==marker and board[4]==marker and board[8]==marker:\n",
        "    return True\n",
        "  elif board[0]==marker and board[3]==marker and board[6]==marker:\n",
        "    return True\n",
        "  elif board[1]==marker and board[4]==marker and board[7]==marker:\n",
        "    return True\n",
        "  elif board[2]==marker and board[5]==marker and board[8]==marker:\n",
        "    return True\n",
        "  elif board[2]==marker and board[4]==marker and board[6]==marker:\n",
        "    return True\n",
        "  else:\n",
        "    return False"
      ],
      "metadata": {
        "id": "WHbJqZ5IyBEF"
      },
      "execution_count": 6,
      "outputs": []
    },
    {
      "cell_type": "code",
      "source": [
        "import random"
      ],
      "metadata": {
        "id": "XjO0Xdgm1OHo"
      },
      "execution_count": 7,
      "outputs": []
    },
    {
      "cell_type": "code",
      "source": [
        "def choose_first():\n",
        "  l=['O','X']\n",
        "  n=random.choice(l)\n",
        "  return n"
      ],
      "metadata": {
        "id": "gGFSFt5Q4G9r"
      },
      "execution_count": 8,
      "outputs": []
    },
    {
      "cell_type": "code",
      "source": [
        "def full_board_check(board):\n",
        "  for i in board:\n",
        "    if ord(i)<57:\n",
        "      return False\n",
        "  print('Match was a draw')\n",
        "  return True"
      ],
      "metadata": {
        "id": "_9D3SV-y43YA"
      },
      "execution_count": 9,
      "outputs": []
    },
    {
      "cell_type": "code",
      "source": [
        "def replay():\n",
        "  p=True\n",
        "  while(p):\n",
        "    ch=input('Do you want to continue playing (Y/N)')\n",
        "    if ch == 'N':\n",
        "      return False\n",
        "      p=False\n",
        "    elif ch=='Y':\n",
        "      return True\n",
        "      p=False\n",
        "    else:\n",
        "      clear_output()\n",
        "      print('Sorry! not a valid answer')"
      ],
      "metadata": {
        "id": "Ran6rudrGCl8"
      },
      "execution_count": 11,
      "outputs": []
    },
    {
      "cell_type": "code",
      "source": [
        "print('Welcom to Tic-Tac-Toe')\n",
        "board=['1','2','3','4','5','6','7','8','9']\n",
        "k=True\n",
        "while(k):\n",
        "  p1=False\n",
        "  p2=False\n",
        "  marker=player_input()\n",
        "  mar=choose_first()\n",
        "  if mar==marker:\n",
        "    print('Player 1 goes first')\n",
        "  else:\n",
        "    print('Player 2 goes first')\n",
        "  while(p1==False and p2==False):\n",
        "    if marker=='X':\n",
        "      print('X marker goes at')\n",
        "      pos=player_pos_input()\n",
        "      place_marker(board,marker,pos)\n",
        "      clear_output()\n",
        "      display(board)\n",
        "      p1=win_check(board,marker)\n",
        "      if p1==True:\n",
        "        print('X wins the game')\n",
        "      p2=full_board_check(board)\n",
        "      marker='O'\n",
        "    else:\n",
        "      print('O marker goes at')\n",
        "      pos=player_pos_input()\n",
        "      place_marker(board,marker,pos)\n",
        "      clear_output()\n",
        "      display(board)\n",
        "      p1=win_check(board,marker)\n",
        "      if p1==True:\n",
        "        print('O wins the game')\n",
        "      p2=full_board_check(board)\n",
        "      marker='X'\n",
        "  k=replay()"
      ],
      "metadata": {
        "colab": {
          "base_uri": "https://localhost:8080/"
        },
        "id": "esLLtxF-JQ2t",
        "outputId": "5232d138-243d-4e70-e5e5-3a984290e95b"
      },
      "execution_count": 15,
      "outputs": [
        {
          "name": "stdout",
          "output_type": "stream",
          "text": [
            "X|2|3\n",
            "O|X|6\n",
            "O|8|X\n",
            "X wins the game\n",
            "Do you want to continue playing (Y/N)N\n"
          ]
        }
      ]
    },
    {
      "cell_type": "code",
      "source": [
        ""
      ],
      "metadata": {
        "id": "dP_z_ijzui_5"
      },
      "execution_count": null,
      "outputs": []
    }
  ]
}