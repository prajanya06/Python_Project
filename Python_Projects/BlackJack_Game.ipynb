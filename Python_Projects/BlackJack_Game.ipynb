{
  "nbformat": 4,
  "nbformat_minor": 0,
  "metadata": {
    "colab": {
      "name": "BlackJack_Game.ipynb",
      "provenance": [],
      "collapsed_sections": []
    },
    "kernelspec": {
      "name": "python3",
      "display_name": "Python 3"
    },
    "language_info": {
      "name": "python"
    }
  },
  "cells": [
    {
      "cell_type": "code",
      "execution_count": 79,
      "metadata": {
        "id": "CaWjXCe0xd1k"
      },
      "outputs": [],
      "source": [
        "import random\n",
        "suits=('Hearts', 'Diamonds', 'Clubs', 'Spades')\n",
        "ranks=('Two', 'Three', 'Four', 'Five', 'Six', 'Seven', 'Eight', 'Nine', 'Ten', 'Jack', 'Queen', 'King', 'Ace')\n",
        "values={'Two':2, 'Three':3, 'Four':4, 'Five':5, 'Six':6, 'Seven':7, 'Eight':8, 'Nine':9, 'Ten': 10, 'Jack':10, 'Queen':10, 'King':10, 'Ace':11}\n",
        "playing = True"
      ]
    },
    {
      "cell_type": "code",
      "source": [
        "class Card():\n",
        "  def __init__(self,suit,rank):\n",
        "    self.suit=suit\n",
        "    self.rank=rank\n",
        "\n",
        "  def __str__(self):\n",
        "    return f\"{self.rank} of {self.suit}\""
      ],
      "metadata": {
        "id": "e_o0IZ32yyHC"
      },
      "execution_count": 80,
      "outputs": []
    },
    {
      "cell_type": "code",
      "source": [
        "class Deck():\n",
        "  def __init__(self):\n",
        "    self.deck=[]\n",
        "    for i in suits:\n",
        "      for j in ranks:\n",
        "        card=Card(i,j)\n",
        "        self.deck.append(card)\n",
        "\n",
        "  def __str__(self):\n",
        "    return \"Deck of cards\"\n",
        "\n",
        "  def shuffle(self):\n",
        "    random.shuffle(self.deck)\n",
        "\n",
        "  def deal(self):\n",
        "    return self.deck.pop(0)"
      ],
      "metadata": {
        "id": "N9wWh-_QzXdq"
      },
      "execution_count": 81,
      "outputs": []
    },
    {
      "cell_type": "code",
      "source": [
        "class Hand():\n",
        "  def __init__(self):\n",
        "    self.cards=[]\n",
        "    self.value=0\n",
        "    self.aces=0\n",
        "\n",
        "  def add_cards(self,card):\n",
        "    self.cards.append(card)\n",
        "    self.value += values[card.rank]\n",
        "    if card.rank == 'Ace':\n",
        "      self.aces += 1\n",
        "\n",
        "  def adjust_ace(self):\n",
        "    while self.value > 21 and self.aces > 0:\n",
        "      self.value -= 10\n",
        "      self.aces -= 1"
      ],
      "metadata": {
        "id": "i7q1BMcQ3Gn1"
      },
      "execution_count": 91,
      "outputs": []
    },
    {
      "cell_type": "code",
      "source": [
        "class chip():\n",
        "  def __init__(self, total=100):\n",
        "    self.total = total\n",
        "    self.bet = 0\n",
        "\n",
        "  def win_bet(self):\n",
        "    self.total += self.bet\n",
        "\n",
        "  def lose_bet(self):\n",
        "    self.total -= self.bet"
      ],
      "metadata": {
        "id": "GylCCjLxCJqL"
      },
      "execution_count": 83,
      "outputs": []
    },
    {
      "cell_type": "code",
      "source": [
        "def take_bet(chip):\n",
        "  while True:\n",
        "    try:\n",
        "      chip.bet = int(input(\"How many chips would lik to bet\"))\n",
        "    except:\n",
        "      print(\"Sorry plz provide an integer\")\n",
        "    else:\n",
        "      if chip.bet > chip.total:\n",
        "        print(f\"Sorry! not enough chips. You have {chip.total}\")\n",
        "      else:\n",
        "        break"
      ],
      "metadata": {
        "id": "nu7POPbHC9t9"
      },
      "execution_count": 84,
      "outputs": []
    },
    {
      "cell_type": "code",
      "source": [
        "def hit(deck, hand):\n",
        "  single_card = deck.deal()\n",
        "  hand.add_cards(single_card)\n",
        "  hand.adjust_ace()"
      ],
      "metadata": {
        "id": "h2_RsgPPI1R0"
      },
      "execution_count": 85,
      "outputs": []
    },
    {
      "cell_type": "code",
      "source": [
        "def hit_or_stand(deck, hand):\n",
        "  \n",
        "  global playing\n",
        "\n",
        "  while True:\n",
        "    x = input(\"Hit or Stand? Enter h or s\")\n",
        "    if x[0].lower() == 'h':\n",
        "      hit(deck,hand)\n",
        "    elif x[0].lower() == 's':\n",
        "      print(\"Its dealer's turn\")\n",
        "      playing = False\n",
        "    else:\n",
        "      print(\"Wrong Input\")\n",
        "      continue\n",
        "    break"
      ],
      "metadata": {
        "id": "dBXhIH94Js4l"
      },
      "execution_count": 86,
      "outputs": []
    },
    {
      "cell_type": "code",
      "source": [
        "def show_some(player,dealer):\n",
        "  print(\"\\nDealer's hand: \")\n",
        "  print(\"First card hidden \")\n",
        "  print(dealer.cards[1])\n",
        "  print(\"\\nPlayer's hand: \")\n",
        "  for card in player.cards:\n",
        "    print(card)"
      ],
      "metadata": {
        "id": "XJvJ_e8AMbQp"
      },
      "execution_count": 87,
      "outputs": []
    },
    {
      "cell_type": "code",
      "source": [
        "def show_all(player,dealer):\n",
        "  print(\"\\nDealer's hand: \")\n",
        "  for card in dealer.cards:\n",
        "    print(card)\n",
        "  print(f\"Value of dealer's cards is: {dealer.value}\")\n",
        "  print(\"\\nPlayer's hand: \")\n",
        "  for card in player.cards:\n",
        "    print(card)\n",
        "  print(f\"Value of Player's cards is: {player.value}\")"
      ],
      "metadata": {
        "id": "rnmaTqZzN9Ml"
      },
      "execution_count": 88,
      "outputs": []
    },
    {
      "cell_type": "code",
      "source": [
        "def player_busts(player,dealer,chip):\n",
        "  print(\"BUST PLAYER!\")\n",
        "  chip.lose_bet()\n",
        "\n",
        "def player_wins(player,dealer,chip):\n",
        "  print(\"Player Wins\")\n",
        "  chip.win_bet()\n",
        "\n",
        "def dealer_busts(player,dealer,chip):\n",
        "  print(\"Dealer Bust\")\n",
        "  chip.win_bet()\n",
        "\n",
        "def dealer_wins(player,dealer,chip):\n",
        "  print(\"Dealer Wins\")\n",
        "  chip.lose_bet()\n",
        "\n",
        "def push(dealer, player):\n",
        "  print('player dealer tie, push')"
      ],
      "metadata": {
        "id": "heHF6EEqP_UJ"
      },
      "execution_count": 89,
      "outputs": []
    },
    {
      "cell_type": "code",
      "source": [
        "while True:\n",
        "    print('Welcome to BlackJack! Get as close to 21 as you can without going over!\\n\\ Dealer hits until she reaches 17. Aces count as 1 or 11.')\n",
        "    deck = Deck()\n",
        "    deck.shuffle()\n",
        "    player_hand = Hand()\n",
        "    player_hand.add_cards(deck.deal())\n",
        "    player_hand.add_cards(deck.deal())\n",
        "    dealer_hand = Hand()\n",
        "    dealer_hand.add_cards(deck.deal())\n",
        "    dealer_hand.add_cards(deck.deal())\n",
        "    player_chips = chip()    \n",
        "    take_bet(player_chips)\n",
        "    show_some(player_hand,dealer_hand)\n",
        "    \n",
        "    while playing:\n",
        "        hit_or_stand(deck,player_hand) \n",
        "        show_some(player_hand,dealer_hand)  \n",
        "        if player_hand.value > 21:\n",
        "            player_busts(player_hand,dealer_hand,player_chips)\n",
        "            break \n",
        "    \n",
        "    if player_hand.value <= 21:\n",
        "        while dealer_hand.value < 17:\n",
        "            hit(deck,dealer_hand)    \n",
        "        show_all(player_hand,dealer_hand)\n",
        "        if dealer_hand.value > 21:\n",
        "            dealer_busts(player_hand,dealer_hand,player_chips)\n",
        "        elif dealer_hand.value > player_hand.value:\n",
        "            dealer_wins(player_hand,dealer_hand,player_chips)\n",
        "        elif dealer_hand.value < player_hand.value:\n",
        "            player_wins(player_hand,dealer_hand,player_chips)\n",
        "        else:\n",
        "            push(player_hand,dealer_hand)        \n",
        "    print(\"\\nPlayer's winnings stand at\",player_chips.total)\n",
        "    new_game = input(\"Would you like to play another hand? Enter 'y' or 'n' \")\n",
        "    if new_game[0].lower()=='y':\n",
        "        playing=True\n",
        "        continue\n",
        "    else:\n",
        "        print(\"Thanks for playing!\")\n",
        "        break"
      ],
      "metadata": {
        "colab": {
          "base_uri": "https://localhost:8080/"
        },
        "id": "Vh-k_zW8RJG9",
        "outputId": "65f41f0c-a020-4006-8b9b-ecff4cdf33a1"
      },
      "execution_count": 92,
      "outputs": [
        {
          "output_type": "stream",
          "name": "stdout",
          "text": [
            "Welcome to BlackJack! Get as close to 21 as you can without going over!\n",
            "\\ Dealer hits until she reaches 17. Aces count as 1 or 11.\n",
            "How many chips would lik to bet50\n",
            "\n",
            "Dealer's hand: \n",
            "First card hidden \n",
            "Ace of Hearts\n",
            "\n",
            "Player's hand: \n",
            "Queen of Clubs\n",
            "Three of Hearts\n",
            "Hit or Stand? Enter h or sh\n",
            "\n",
            "Dealer's hand: \n",
            "First card hidden \n",
            "Ace of Hearts\n",
            "\n",
            "Player's hand: \n",
            "Queen of Clubs\n",
            "Three of Hearts\n",
            "Jack of Diamonds\n",
            "BUST PLAYER!\n",
            "\n",
            "Player's winnings stand at 50\n",
            "Would you like to play another hand? Enter 'y' or 'n' y\n",
            "Welcome to BlackJack! Get as close to 21 as you can without going over!\n",
            "\\ Dealer hits until she reaches 17. Aces count as 1 or 11.\n",
            "How many chips would lik to bet70\n",
            "\n",
            "Dealer's hand: \n",
            "First card hidden \n",
            "Six of Spades\n",
            "\n",
            "Player's hand: \n",
            "Two of Spades\n",
            "Seven of Hearts\n",
            "Hit or Stand? Enter h or sh\n",
            "\n",
            "Dealer's hand: \n",
            "First card hidden \n",
            "Six of Spades\n",
            "\n",
            "Player's hand: \n",
            "Two of Spades\n",
            "Seven of Hearts\n",
            "Four of Hearts\n",
            "Hit or Stand? Enter h or ss\n",
            "Its dealer's turn\n",
            "\n",
            "Dealer's hand: \n",
            "First card hidden \n",
            "Six of Spades\n",
            "\n",
            "Player's hand: \n",
            "Two of Spades\n",
            "Seven of Hearts\n",
            "Four of Hearts\n",
            "\n",
            "Dealer's hand: \n",
            "Ten of Clubs\n",
            "Six of Spades\n",
            "Five of Clubs\n",
            "Value of dealer's cards is: 21\n",
            "\n",
            "Player's hand: \n",
            "Two of Spades\n",
            "Seven of Hearts\n",
            "Four of Hearts\n",
            "Value of Player's cards is: 13\n",
            "Dealer Wins\n",
            "\n",
            "Player's winnings stand at 30\n",
            "Would you like to play another hand? Enter 'y' or 'n' n\n",
            "Thanks for playing!\n"
          ]
        }
      ]
    },
    {
      "cell_type": "code",
      "source": [
        ""
      ],
      "metadata": {
        "id": "HucFMFuuSPBS"
      },
      "execution_count": null,
      "outputs": []
    }
  ]
}